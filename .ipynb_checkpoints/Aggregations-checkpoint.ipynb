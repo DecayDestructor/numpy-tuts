{
 "cells": [
  {
   "cell_type": "code",
   "execution_count": 1,
   "id": "e56c5a31-657e-4732-b67b-a72576e5088f",
   "metadata": {},
   "outputs": [
    {
     "ename": "NameError",
     "evalue": "name 'np' is not defined",
     "output_type": "error",
     "traceback": [
      "\u001b[1;31m---------------------------------------------------------------------------\u001b[0m",
      "\u001b[1;31mNameError\u001b[0m                                 Traceback (most recent call last)",
      "Cell \u001b[1;32mIn[1], line 1\u001b[0m\n\u001b[1;32m----> 1\u001b[0m np\u001b[38;5;241m.\u001b[39mrandom()\n",
      "\u001b[1;31mNameError\u001b[0m: name 'np' is not defined"
     ]
    }
   ],
   "source": [
    "np.random()"
   ]
  },
  {
   "cell_type": "code",
   "execution_count": 3,
   "id": "0581edc9-8165-4f2d-a1bf-4eb83e19ea4d",
   "metadata": {},
   "outputs": [],
   "source": [
    "import numpy as np"
   ]
  },
  {
   "cell_type": "code",
   "execution_count": 5,
   "id": "5cc7a9ac-ab4f-4c0e-a134-399c2bcf0ec4",
   "metadata": {},
   "outputs": [
    {
     "ename": "TypeError",
     "evalue": "'module' object is not callable",
     "output_type": "error",
     "traceback": [
      "\u001b[1;31m---------------------------------------------------------------------------\u001b[0m",
      "\u001b[1;31mTypeError\u001b[0m                                 Traceback (most recent call last)",
      "Cell \u001b[1;32mIn[5], line 1\u001b[0m\n\u001b[1;32m----> 1\u001b[0m np\u001b[38;5;241m.\u001b[39mrandom()\n",
      "\u001b[1;31mTypeError\u001b[0m: 'module' object is not callable"
     ]
    }
   ],
   "source": [
    "np.random()"
   ]
  },
  {
   "cell_type": "code",
   "execution_count": 7,
   "id": "43798e3b-0800-43f1-8393-fcd523758879",
   "metadata": {},
   "outputs": [
    {
     "data": {
      "text/plain": [
       "<module 'numpy.random' from 'C:\\\\Users\\\\aarya\\\\anaconda3\\\\Lib\\\\site-packages\\\\numpy\\\\random\\\\__init__.py'>"
      ]
     },
     "execution_count": 7,
     "metadata": {},
     "output_type": "execute_result"
    }
   ],
   "source": [
    "np.random"
   ]
  },
  {
   "cell_type": "code",
   "execution_count": 21,
   "id": "cf804c30-6d5d-41b4-bb60-e52586577cf6",
   "metadata": {},
   "outputs": [
    {
     "data": {
      "text/plain": [
       "array([0.0070453 , 0.93125014, 0.14362672, 0.19453582, 0.88789647,\n",
       "       0.01334101, 0.5492829 , 0.42079458, 0.93897452, 0.41133226])"
      ]
     },
     "execution_count": 21,
     "metadata": {},
     "output_type": "execute_result"
    }
   ],
   "source": [
    "np.random.random(10)"
   ]
  },
  {
   "cell_type": "code",
   "execution_count": 23,
   "id": "ad06385f-0938-4bb4-b051-7453bace241a",
   "metadata": {},
   "outputs": [],
   "source": [
    "big_array = np.random.rand(1000000)"
   ]
  },
  {
   "cell_type": "code",
   "execution_count": 25,
   "id": "a8e39bba-d829-42c7-9add-e87d9286f867",
   "metadata": {},
   "outputs": [
    {
     "data": {
      "text/plain": [
       "array([0.072217  , 0.64163982, 0.69861834, ..., 0.65740749, 0.30396159,\n",
       "       0.90557762])"
      ]
     },
     "execution_count": 25,
     "metadata": {},
     "output_type": "execute_result"
    }
   ],
   "source": [
    "big_array"
   ]
  },
  {
   "cell_type": "code",
   "execution_count": 29,
   "id": "12ab8c72-54e8-4abc-b74c-00239ceafda9",
   "metadata": {},
   "outputs": [
    {
     "data": {
      "text/plain": [
       "0.9999973477191351"
      ]
     },
     "execution_count": 29,
     "metadata": {},
     "output_type": "execute_result"
    }
   ],
   "source": [
    "np.max(big_array)"
   ]
  },
  {
   "cell_type": "code",
   "execution_count": 33,
   "id": "cf5ee534-c95f-4232-baf4-0663e6d9cb30",
   "metadata": {},
   "outputs": [
    {
     "data": {
      "text/plain": [
       "1.913368244954583e-07"
      ]
     },
     "execution_count": 33,
     "metadata": {},
     "output_type": "execute_result"
    }
   ],
   "source": [
    "np.min(big_array)"
   ]
  },
  {
   "cell_type": "code",
   "execution_count": 35,
   "id": "1acb426f-9694-41e3-8448-8bf36c1bc246",
   "metadata": {},
   "outputs": [
    {
     "name": "stdout",
     "output_type": "stream",
     "text": [
      "1.913368244954583e-07 0.9999973477191351 499954.88906455645\n"
     ]
    }
   ],
   "source": [
    "print(big_array.min(), big_array.max(), big_array.sum())"
   ]
  },
  {
   "cell_type": "code",
   "execution_count": 37,
   "id": "6f2f7742-633a-42ae-8849-269c270b945d",
   "metadata": {},
   "outputs": [
    {
     "name": "stdout",
     "output_type": "stream",
     "text": [
      "[[0.60624172 0.89256151 0.35857825 0.13767414]\n",
      " [0.31867041 0.0936044  0.73835371 0.47607761]\n",
      " [0.65646397 0.77063042 0.48494505 0.47240267]]\n"
     ]
    }
   ],
   "source": [
    "M = np.random.random((3, 4))\n",
    "print(M)"
   ]
  },
  {
   "cell_type": "code",
   "execution_count": 47,
   "id": "ee3fa0de-f512-4291-9f05-5eac32d18638",
   "metadata": {},
   "outputs": [
    {
     "data": {
      "text/plain": [
       "6.006203858341074"
      ]
     },
     "execution_count": 47,
     "metadata": {},
     "output_type": "execute_result"
    }
   ],
   "source": [
    "np.sum(M)"
   ]
  },
  {
   "cell_type": "code",
   "execution_count": 43,
   "id": "90a73ed0-03ac-44a8-8683-238e6d004235",
   "metadata": {},
   "outputs": [
    {
     "data": {
      "text/plain": [
       "array([0.65646397, 0.89256151, 0.73835371, 0.47607761])"
      ]
     },
     "execution_count": 43,
     "metadata": {},
     "output_type": "execute_result"
    }
   ],
   "source": [
    "np.max(M,axis=0)"
   ]
  },
  {
   "cell_type": "code",
   "execution_count": 49,
   "id": "9432296e-c183-4252-b12f-0875b19be34b",
   "metadata": {},
   "outputs": [
    {
     "data": {
      "text/plain": [
       "array([0.89256151, 0.73835371, 0.77063042])"
      ]
     },
     "execution_count": 49,
     "metadata": {},
     "output_type": "execute_result"
    }
   ],
   "source": [
    "np.max(M,axis=1)"
   ]
  },
  {
   "cell_type": "code",
   "execution_count": null,
   "id": "6852a26d-97ba-4efd-a594-8122b798bd74",
   "metadata": {},
   "outputs": [],
   "source": []
  }
 ],
 "metadata": {
  "kernelspec": {
   "display_name": "Python 3 (ipykernel)",
   "language": "python",
   "name": "python3"
  },
  "language_info": {
   "codemirror_mode": {
    "name": "ipython",
    "version": 3
   },
   "file_extension": ".py",
   "mimetype": "text/x-python",
   "name": "python",
   "nbconvert_exporter": "python",
   "pygments_lexer": "ipython3",
   "version": "3.12.4"
  }
 },
 "nbformat": 4,
 "nbformat_minor": 5
}
