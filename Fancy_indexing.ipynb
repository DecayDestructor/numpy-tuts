{
 "cells": [
  {
   "cell_type": "markdown",
   "id": "27ca4cf0-223c-4366-be9f-f0f69cf92ff0",
   "metadata": {},
   "source": [
    "## Fancy Indexing"
   ]
  },
  {
   "cell_type": "markdown",
   "id": "d86fe45c-a867-41a9-bd1f-aaa10bb7ac06",
   "metadata": {},
   "source": [
    "Fancy indexing is conceptually simple: it means passing an array of indices to access multiple array elements at once. For example, consider the following array:"
   ]
  },
  {
   "cell_type": "code",
   "execution_count": 5,
   "id": "0ad0597c-2b1b-4a47-9518-0c931d55d81b",
   "metadata": {},
   "outputs": [
    {
     "name": "stdout",
     "output_type": "stream",
     "text": [
      "[51 92 14 71 60 20 82 86 74 74]\n"
     ]
    }
   ],
   "source": [
    "import numpy as np\n",
    "rand = np.random.RandomState(42)\n",
    "\n",
    "x = rand.randint(100, size=10)\n",
    "print(x)"
   ]
  },
  {
   "cell_type": "code",
   "execution_count": 7,
   "id": "76807a13-5f9a-44bb-8462-9acdcccf1f9a",
   "metadata": {},
   "outputs": [],
   "source": [
    "ind=[1,2,3]"
   ]
  },
  {
   "cell_type": "code",
   "execution_count": 9,
   "id": "ab6a176e-1e47-43e8-bf2f-ec7338038e9a",
   "metadata": {},
   "outputs": [
    {
     "data": {
      "text/plain": [
       "array([92, 14, 71])"
      ]
     },
     "execution_count": 9,
     "metadata": {},
     "output_type": "execute_result"
    }
   ],
   "source": [
    "x[ind]"
   ]
  },
  {
   "cell_type": "code",
   "execution_count": 11,
   "id": "e22c40e5-b492-4972-8717-fc0b875a8d18",
   "metadata": {},
   "outputs": [
    {
     "data": {
      "text/plain": [
       "array([[71, 86],\n",
       "       [60, 20]])"
      ]
     },
     "execution_count": 11,
     "metadata": {},
     "output_type": "execute_result"
    }
   ],
   "source": [
    "ind = np.array([[3, 7],\n",
    "                [4, 5]])\n",
    "x[ind]"
   ]
  },
  {
   "cell_type": "code",
   "execution_count": 13,
   "id": "7902049d-d527-467b-8690-0b9cc25ad13f",
   "metadata": {},
   "outputs": [
    {
     "data": {
      "text/plain": [
       "array([[ 0,  1,  2,  3],\n",
       "       [ 4,  5,  6,  7],\n",
       "       [ 8,  9, 10, 11]])"
      ]
     },
     "execution_count": 13,
     "metadata": {},
     "output_type": "execute_result"
    }
   ],
   "source": [
    "X = np.arange(12).reshape((3, 4))\n",
    "X"
   ]
  },
  {
   "cell_type": "code",
   "execution_count": 17,
   "id": "ca9f7a52-0e77-4fba-a1fd-2ed186b51df5",
   "metadata": {},
   "outputs": [
    {
     "data": {
      "text/plain": [
       "array([ 2,  5, 11])"
      ]
     },
     "execution_count": 17,
     "metadata": {},
     "output_type": "execute_result"
    }
   ],
   "source": [
    "row = np.array([0, 1, 2])\n",
    "col = np.array([2, 1, 3]) #0,2 1,1 and 2,3 will be printed\n",
    "X[row, col]"
   ]
  },
  {
   "cell_type": "code",
   "execution_count": 25,
   "id": "020d0c09-cc26-4e5e-b54f-28f28bbdb562",
   "metadata": {},
   "outputs": [
    {
     "data": {
      "text/plain": [
       "array([[ 9],\n",
       "       [10],\n",
       "       [11]])"
      ]
     },
     "execution_count": 25,
     "metadata": {},
     "output_type": "execute_result"
    }
   ],
   "source": [
    "X[2,[1,2,3]].reshape(3,1)"
   ]
  },
  {
   "cell_type": "markdown",
   "id": "d31251e3-af64-4afc-86ab-06cfb0686e3b",
   "metadata": {},
   "source": [
    "x=np.random.randint(10,size=6)"
   ]
  },
  {
   "cell_type": "code",
   "execution_count": 29,
   "id": "c82ceb66-235b-472f-a063-e0c453af335f",
   "metadata": {},
   "outputs": [
    {
     "data": {
      "text/plain": [
       "array([0, 5, 5, 8, 5, 8])"
      ]
     },
     "execution_count": 29,
     "metadata": {},
     "output_type": "execute_result"
    }
   ],
   "source": [
    "x"
   ]
  },
  {
   "cell_type": "code",
   "execution_count": 31,
   "id": "6037ae70-156d-4bd8-8f86-5daf02a1a85e",
   "metadata": {},
   "outputs": [],
   "source": [
    "x[[1,2,3]]=10"
   ]
  },
  {
   "cell_type": "code",
   "execution_count": 51,
   "id": "b20c9c9b-0cc0-49b5-a7d8-0ee76883e837",
   "metadata": {},
   "outputs": [
    {
     "data": {
      "text/plain": [
       "array([ 0, 13, 11, 13,  5,  8])"
      ]
     },
     "execution_count": 51,
     "metadata": {},
     "output_type": "execute_result"
    }
   ],
   "source": [
    "x"
   ]
  },
  {
   "cell_type": "code",
   "execution_count": 41,
   "id": "456acb07-1d65-4630-a5fa-8d0bc09e07df",
   "metadata": {},
   "outputs": [],
   "source": [
    "ind=[1,1,3]"
   ]
  },
  {
   "cell_type": "code",
   "execution_count": 53,
   "id": "a21f6a49-d204-4966-9b97-b6e530911ee1",
   "metadata": {},
   "outputs": [],
   "source": [
    "x[ind]+=1"
   ]
  },
  {
   "cell_type": "code",
   "execution_count": 55,
   "id": "fbe9b50a-bf76-4cbb-816c-4fc50740a30a",
   "metadata": {},
   "outputs": [
    {
     "data": {
      "text/plain": [
       "array([ 0, 14, 11, 14,  5,  8])"
      ]
     },
     "execution_count": 55,
     "metadata": {},
     "output_type": "execute_result"
    }
   ],
   "source": [
    "x"
   ]
  },
  {
   "cell_type": "markdown",
   "id": "c5add932-cd15-4a88-b04b-8a1a61b8d1a8",
   "metadata": {},
   "source": [
    "notice how index 1 is incremented only one times when the index is included twice, thats because x+=1 transforms to x=x+1, so the augmentation does not happen multiple times but the assignment happens multiple times "
   ]
  },
  {
   "cell_type": "markdown",
   "id": "65b96dae-77e6-459b-bc58-d5675bb793f3",
   "metadata": {},
   "source": [
    "to perform augmentation, one can use the np.add.at() function"
   ]
  },
  {
   "cell_type": "code",
   "execution_count": 61,
   "id": "cfee78f8-b0e9-40ec-b6c0-0cdbe61ae62e",
   "metadata": {},
   "outputs": [
    {
     "name": "stdout",
     "output_type": "stream",
     "text": [
      "[0. 2. 0. 1. 0. 0. 0. 0. 0. 0.]\n"
     ]
    }
   ],
   "source": [
    "x = np.zeros(10)\n",
    "np.add.at(x, ind, 1)\n",
    "print(x)"
   ]
  },
  {
   "cell_type": "code",
   "execution_count": null,
   "id": "99f2bdd5-bba0-4d7c-a644-9453edc4f5c3",
   "metadata": {},
   "outputs": [],
   "source": []
  }
 ],
 "metadata": {
  "kernelspec": {
   "display_name": "Python 3 (ipykernel)",
   "language": "python",
   "name": "python3"
  },
  "language_info": {
   "codemirror_mode": {
    "name": "ipython",
    "version": 3
   },
   "file_extension": ".py",
   "mimetype": "text/x-python",
   "name": "python",
   "nbconvert_exporter": "python",
   "pygments_lexer": "ipython3",
   "version": "3.12.4"
  }
 },
 "nbformat": 4,
 "nbformat_minor": 5
}
