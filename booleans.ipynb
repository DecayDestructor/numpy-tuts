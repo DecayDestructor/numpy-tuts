{
 "cells": [
  {
   "cell_type": "code",
   "execution_count": 3,
   "id": "c4c0a6ab-5142-431e-a19c-13429ce0d44f",
   "metadata": {},
   "outputs": [],
   "source": [
    "import numpy as np"
   ]
  },
  {
   "cell_type": "code",
   "execution_count": 3,
   "id": "9079a973-2c00-46a9-9fee-5485855d68e6",
   "metadata": {},
   "outputs": [],
   "source": [
    "x=np.array([1,2,3,4,5,6])"
   ]
  },
  {
   "cell_type": "code",
   "execution_count": 5,
   "id": "95ca17df-6c6e-43bf-9e01-1e6a9defefc5",
   "metadata": {},
   "outputs": [
    {
     "data": {
      "text/plain": [
       "array([False, False, False,  True,  True,  True])"
      ]
     },
     "execution_count": 5,
     "metadata": {},
     "output_type": "execute_result"
    }
   ],
   "source": [
    "x>3"
   ]
  },
  {
   "cell_type": "code",
   "execution_count": 11,
   "id": "8c33b578-7ee5-453b-be8b-f3d32fede203",
   "metadata": {},
   "outputs": [
    {
     "data": {
      "text/plain": [
       "array([ True,  True, False, False, False, False])"
      ]
     },
     "execution_count": 11,
     "metadata": {},
     "output_type": "execute_result"
    }
   ],
   "source": [
    "(2*x)==(2**x)"
   ]
  },
  {
   "cell_type": "markdown",
   "id": "30ee62ca-ea75-4957-930d-216874edb64a",
   "metadata": {},
   "source": [
    "As in the case of arithmetic operators, the comparison operators are implemented as ufuncs in NumPy; for example, when you write x < 3, internally NumPy uses np.less(x, 3)"
   ]
  },
  {
   "cell_type": "markdown",
   "id": "7209a44a-cd0c-469c-87a8-6f00eea0de0d",
   "metadata": {},
   "source": [
    "## Counting entries"
   ]
  },
  {
   "cell_type": "markdown",
   "id": "fdaaa251-4ef6-4baf-a651-a542ff7d254b",
   "metadata": {},
   "source": [
    "To count the number of True entries in a Boolean array, np.count_nonzero is useful:"
   ]
  },
  {
   "cell_type": "code",
   "execution_count": 17,
   "id": "192a5454-bd49-4c68-afc4-e12a741c9f2f",
   "metadata": {},
   "outputs": [
    {
     "data": {
      "text/plain": [
       "3"
      ]
     },
     "execution_count": 17,
     "metadata": {},
     "output_type": "execute_result"
    }
   ],
   "source": [
    "np.count_nonzero(x>3)"
   ]
  },
  {
   "cell_type": "markdown",
   "id": "7b92d8c7-0f61-4fd1-837b-93edd39d3c01",
   "metadata": {},
   "source": [
    "one can also use the sum function as false is interpreted as zero"
   ]
  },
  {
   "cell_type": "code",
   "execution_count": 20,
   "id": "af9566e6-0251-4326-9ceb-9c3c801c8597",
   "metadata": {},
   "outputs": [
    {
     "data": {
      "text/plain": [
       "3"
      ]
     },
     "execution_count": 20,
     "metadata": {},
     "output_type": "execute_result"
    }
   ],
   "source": [
    "np.sum(x>3)"
   ]
  },
  {
   "cell_type": "code",
   "execution_count": 22,
   "id": "943961aa-8877-41cd-974c-bb7b5ce33a98",
   "metadata": {},
   "outputs": [],
   "source": [
    "x=np.random.randint(10,size=(3,3))"
   ]
  },
  {
   "cell_type": "code",
   "execution_count": 24,
   "id": "6892213d-5dc8-4618-8b74-71f94e8553ef",
   "metadata": {},
   "outputs": [
    {
     "data": {
      "text/plain": [
       "array([[0, 1, 8],\n",
       "       [4, 8, 4],\n",
       "       [2, 4, 3]])"
      ]
     },
     "execution_count": 24,
     "metadata": {},
     "output_type": "execute_result"
    }
   ],
   "source": [
    "x"
   ]
  },
  {
   "cell_type": "code",
   "execution_count": 28,
   "id": "0b8001b3-7fdf-46a3-a3f6-1f34767a0e4d",
   "metadata": {},
   "outputs": [
    {
     "data": {
      "text/plain": [
       "array([1, 3, 1])"
      ]
     },
     "execution_count": 28,
     "metadata": {},
     "output_type": "execute_result"
    }
   ],
   "source": [
    "np.sum(x>=4,axis=1)"
   ]
  },
  {
   "cell_type": "markdown",
   "id": "6b3e271f-e4dd-4337-87db-e83b3a51530c",
   "metadata": {},
   "source": [
    "np.any() can be used to check if there exists any value where.... and np.all() is used to check if all the values satisfy the condition"
   ]
  },
  {
   "cell_type": "code",
   "execution_count": 32,
   "id": "608a7a38-7b0f-4f53-948b-ccbdb301cad7",
   "metadata": {},
   "outputs": [
    {
     "data": {
      "text/plain": [
       "False"
      ]
     },
     "execution_count": 32,
     "metadata": {},
     "output_type": "execute_result"
    }
   ],
   "source": [
    "np.any(x>=10)"
   ]
  },
  {
   "cell_type": "code",
   "execution_count": 34,
   "id": "0b46a267-f20b-4426-8957-d2eab48df248",
   "metadata": {},
   "outputs": [
    {
     "data": {
      "text/plain": [
       "True"
      ]
     },
     "execution_count": 34,
     "metadata": {},
     "output_type": "execute_result"
    }
   ],
   "source": [
    "np.all(x>=0)"
   ]
  },
  {
   "cell_type": "code",
   "execution_count": 38,
   "id": "58484ca3-3745-417f-b4fb-bf3a60c64d0a",
   "metadata": {},
   "outputs": [
    {
     "data": {
      "text/plain": [
       "2"
      ]
     },
     "execution_count": 38,
     "metadata": {},
     "output_type": "execute_result"
    }
   ],
   "source": [
    "np.sum((x<10) & (x>5))"
   ]
  },
  {
   "cell_type": "code",
   "execution_count": 5,
   "id": "68c62d6e-5518-4cdb-a191-0a89925fdfbf",
   "metadata": {},
   "outputs": [],
   "source": [
    "x=np.random.randint(10,size=(3,3))"
   ]
  },
  {
   "cell_type": "code",
   "execution_count": 9,
   "id": "74708ec8-9406-41f5-bee5-19b8d553e480",
   "metadata": {},
   "outputs": [
    {
     "data": {
      "text/plain": [
       "array([[6, 9, 2],\n",
       "       [7, 1, 3],\n",
       "       [3, 2, 4]])"
      ]
     },
     "execution_count": 9,
     "metadata": {},
     "output_type": "execute_result"
    }
   ],
   "source": [
    "x"
   ]
  },
  {
   "cell_type": "markdown",
   "id": "e3f49320-2071-4a64-8c36-99a3d4ea6ba4",
   "metadata": {},
   "source": [
    "to get the array and not true and false on a condition:"
   ]
  },
  {
   "cell_type": "code",
   "execution_count": 11,
   "id": "75f21fdf-b2d4-4baf-8e27-144912fde433",
   "metadata": {},
   "outputs": [
    {
     "data": {
      "text/plain": [
       "array([6, 9, 7])"
      ]
     },
     "execution_count": 11,
     "metadata": {},
     "output_type": "execute_result"
    }
   ],
   "source": [
    "x[x>5]"
   ]
  },
  {
   "cell_type": "code",
   "execution_count": 15,
   "id": "452add73-6101-47f2-bd77-ce586574427f",
   "metadata": {},
   "outputs": [
    {
     "data": {
      "text/plain": [
       "array([[1, 1, 0],\n",
       "       [1, 0, 0],\n",
       "       [0, 0, 0]])"
      ]
     },
     "execution_count": 15,
     "metadata": {},
     "output_type": "execute_result"
    }
   ],
   "source": [
    "np.greater_equal(x,5,out=x)"
   ]
  },
  {
   "cell_type": "code",
   "execution_count": 17,
   "id": "3b7ff44f-07fe-4295-aae3-fdaf915ffec1",
   "metadata": {},
   "outputs": [
    {
     "data": {
      "text/plain": [
       "array([[1, 1, 0],\n",
       "       [1, 0, 0],\n",
       "       [0, 0, 0]])"
      ]
     },
     "execution_count": 17,
     "metadata": {},
     "output_type": "execute_result"
    }
   ],
   "source": [
    "x"
   ]
  },
  {
   "cell_type": "code",
   "execution_count": null,
   "id": "553c9f6e-f3b1-42d9-99f9-f10a96e10dc3",
   "metadata": {},
   "outputs": [],
   "source": []
  }
 ],
 "metadata": {
  "kernelspec": {
   "display_name": "Python 3 (ipykernel)",
   "language": "python",
   "name": "python3"
  },
  "language_info": {
   "codemirror_mode": {
    "name": "ipython",
    "version": 3
   },
   "file_extension": ".py",
   "mimetype": "text/x-python",
   "name": "python",
   "nbconvert_exporter": "python",
   "pygments_lexer": "ipython3",
   "version": "3.12.4"
  }
 },
 "nbformat": 4,
 "nbformat_minor": 5
}
