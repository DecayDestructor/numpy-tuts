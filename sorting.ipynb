{
 "cells": [
  {
   "cell_type": "code",
   "execution_count": 1,
   "id": "6e98d3c7-c39e-4804-ad6e-c2b5e771322f",
   "metadata": {},
   "outputs": [],
   "source": [
    "import numpy as np"
   ]
  },
  {
   "cell_type": "code",
   "execution_count": 5,
   "id": "bef5ec8b-b8d8-42a9-b7cf-d351a6675426",
   "metadata": {},
   "outputs": [],
   "source": [
    "x=np.random.randint(15,size=10)"
   ]
  },
  {
   "cell_type": "code",
   "execution_count": 7,
   "id": "f9e0ecb8-abf6-4ae8-b913-a66d3bee4fb5",
   "metadata": {},
   "outputs": [
    {
     "data": {
      "text/plain": [
       "array([ 1,  3,  3,  4,  5,  8,  9, 14, 14, 14])"
      ]
     },
     "execution_count": 7,
     "metadata": {},
     "output_type": "execute_result"
    }
   ],
   "source": [
    "np.sort(x)"
   ]
  },
  {
   "cell_type": "code",
   "execution_count": 9,
   "id": "bc1fbd65-1a54-480b-a40d-8015c988d80e",
   "metadata": {},
   "outputs": [
    {
     "data": {
      "text/plain": [
       "array([ 4, 14, 14, 14,  1,  3,  9,  5,  8,  3])"
      ]
     },
     "execution_count": 9,
     "metadata": {},
     "output_type": "execute_result"
    }
   ],
   "source": [
    "x"
   ]
  },
  {
   "cell_type": "markdown",
   "id": "b9cd1585-3f88-4da2-a31f-a95f5eb401ea",
   "metadata": {},
   "source": [
    "arg sort returns the indexes of the sorted array"
   ]
  },
  {
   "cell_type": "code",
   "execution_count": 42,
   "id": "1135c1f1-1359-40c1-b80e-e21bafeebd1a",
   "metadata": {},
   "outputs": [],
   "source": [
    "y=x[np.argsort(x)].copy()"
   ]
  },
  {
   "cell_type": "code",
   "execution_count": 44,
   "id": "87d04a0e-14e2-43a1-a312-c87ac087defd",
   "metadata": {},
   "outputs": [
    {
     "data": {
      "text/plain": [
       "array([ 1,  3,  3,  4,  5,  8,  9, 14, 14, 14])"
      ]
     },
     "execution_count": 44,
     "metadata": {},
     "output_type": "execute_result"
    }
   ],
   "source": [
    "y"
   ]
  },
  {
   "cell_type": "markdown",
   "id": "b51aff5d-f1a6-415d-a3d4-d3de93504d95",
   "metadata": {},
   "source": [
    "## Sorting along rows or columns"
   ]
  },
  {
   "cell_type": "code",
   "execution_count": 59,
   "id": "4a019feb-d8aa-4911-9154-ab4df0d0d0b4",
   "metadata": {},
   "outputs": [
    {
     "name": "stdout",
     "output_type": "stream",
     "text": [
      "[[6 3 7 4 6 9]\n",
      " [2 6 7 4 3 7]\n",
      " [7 2 5 4 1 7]\n",
      " [5 1 4 0 9 5]]\n"
     ]
    }
   ],
   "source": [
    "rand = np.random.RandomState(42)\n",
    "X = rand.randint(0, 10, (4, 6))\n",
    "print(X)"
   ]
  },
  {
   "cell_type": "code",
   "execution_count": 61,
   "id": "60cc84ad-6ebd-4cc8-8f8b-1ab513ba80d1",
   "metadata": {},
   "outputs": [
    {
     "data": {
      "text/plain": [
       "array([[2, 1, 4, 0, 1, 5],\n",
       "       [5, 2, 5, 4, 3, 7],\n",
       "       [6, 3, 7, 4, 6, 7],\n",
       "       [7, 6, 7, 4, 9, 9]])"
      ]
     },
     "execution_count": 61,
     "metadata": {},
     "output_type": "execute_result"
    }
   ],
   "source": [
    "np.sort(X, axis=0) #column sorting"
   ]
  },
  {
   "cell_type": "code",
   "execution_count": 67,
   "id": "58a8afaa-5ba9-4c43-b127-6eaba8756750",
   "metadata": {},
   "outputs": [
    {
     "data": {
      "text/plain": [
       "array([[3, 4, 6, 6, 7, 9],\n",
       "       [2, 3, 4, 6, 7, 7],\n",
       "       [1, 2, 4, 5, 7, 7],\n",
       "       [0, 1, 4, 5, 5, 9]])"
      ]
     },
     "execution_count": 67,
     "metadata": {},
     "output_type": "execute_result"
    }
   ],
   "source": [
    "np.sort(X,axis=1) #row sorting"
   ]
  },
  {
   "cell_type": "markdown",
   "id": "e7c44fd4-0aab-4b94-b1a7-1bf0b8bfc086",
   "metadata": {},
   "source": [
    "## Partial sorts"
   ]
  },
  {
   "cell_type": "markdown",
   "id": "866b428f-9bc2-4458-b3d6-4b3a1426866b",
   "metadata": {},
   "source": [
    "NumPy provides this in the np.partition function. np.partition takes an array and a number K; the result is a new array with the smallest K values to the left of the partition, and the remaining values to the right, in arbitrary order:"
   ]
  },
  {
   "cell_type": "code",
   "execution_count": 71,
   "id": "b61277e9-eb6a-45a9-ac78-eb581921a3c8",
   "metadata": {},
   "outputs": [
    {
     "data": {
      "text/plain": [
       "array([2, 1, 3, 4, 6, 5, 7])"
      ]
     },
     "execution_count": 71,
     "metadata": {},
     "output_type": "execute_result"
    }
   ],
   "source": [
    "x = np.array([7, 2, 3, 1, 6, 5, 4])\n",
    "np.partition(x, 3)"
   ]
  },
  {
   "cell_type": "markdown",
   "id": "b9583081-154d-4f04-875e-c18be1457dc1",
   "metadata": {},
   "source": [
    "Note that the first three values in the resulting array are the three smallest in the array, and the remaining array positions contain the remaining values. Within the two partitions, the elements have arbitrary order."
   ]
  },
  {
   "cell_type": "code",
   "execution_count": 74,
   "id": "ee862391-3ec7-49d9-b08e-78f52bcbd24a",
   "metadata": {},
   "outputs": [
    {
     "data": {
      "text/plain": [
       "array([[3, 4, 6, 7, 6, 9],\n",
       "       [2, 3, 4, 7, 6, 7],\n",
       "       [1, 2, 4, 5, 7, 7],\n",
       "       [0, 1, 4, 5, 9, 5]])"
      ]
     },
     "execution_count": 74,
     "metadata": {},
     "output_type": "execute_result"
    }
   ],
   "source": [
    "np.partition(X, 2, axis=1)"
   ]
  },
  {
   "cell_type": "markdown",
   "id": "bc08341e-1af8-4a51-b666-68022ed0f809",
   "metadata": {},
   "source": [
    "there is a np.argpartition that computes indices of the partition. "
   ]
  },
  {
   "cell_type": "code",
   "execution_count": null,
   "id": "343f09ea-380e-485c-b8f2-4564af4d5f7a",
   "metadata": {},
   "outputs": [],
   "source": []
  }
 ],
 "metadata": {
  "kernelspec": {
   "display_name": "Python 3 (ipykernel)",
   "language": "python",
   "name": "python3"
  },
  "language_info": {
   "codemirror_mode": {
    "name": "ipython",
    "version": 3
   },
   "file_extension": ".py",
   "mimetype": "text/x-python",
   "name": "python",
   "nbconvert_exporter": "python",
   "pygments_lexer": "ipython3",
   "version": "3.12.4"
  }
 },
 "nbformat": 4,
 "nbformat_minor": 5
}
